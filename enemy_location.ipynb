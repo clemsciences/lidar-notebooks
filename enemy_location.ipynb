{
 "cells": [
  {
   "cell_type": "markdown",
   "metadata": {
    "collapsed": true
   },
   "source": [
    "# Trouver la position des ennemis\n",
    "\n",
    "Nous nous situons dans le cadre de la coupe de France de robotique 2019. On a un robot capable de se mouvoir sur une table de 2 mètres sur 3. On a aussi un LiDAR qui peut prendre des mesures à 360°. On peut donc observer notre environnement immédiat dans un plan donné. Et si on trouvait des robots ennemis sur la table ?\n",
    "\n",
    "On va commencer par mettre en place notre environnement de travail, puis on va situer notre robot et le robot adverse sur la table. Ensuite, on va faire comme si on avait repéré le robot adverse avec le LiDAR. Enfin, on va redonner sa position dans le repère de la table pour que cette information soit utilisée par le haut-niveau (la partie *preneuse de décision* du robot)."
   ]
  },
  {
   "cell_type": "markdown",
   "metadata": {},
   "source": [
    "## Environnement de travail\n",
    "\n",
    "On importe ce qu'il faut : \n",
    "- *numpy* pour faire du calcul matriciel, \n",
    "- *matplolib* avec *pyplot* pour afficher des graphiques.\n"
   ]
  },
  {
   "cell_type": "code",
   "execution_count": 1,
   "metadata": {},
   "outputs": [],
   "source": [
    "import numpy as np\n",
    "import matplotlib.pyplot as pl\n",
    "pl.figure(figsize=(15,13))\n",
    "\n",
    "# %matplotlib inline\n",
    "%matplotlib notebook"
   ]
  },
  {
   "cell_type": "markdown",
   "metadata": {},
   "source": [
    "On importe depuis la racine le code du projet nécessaire pour ce *notebook*."
   ]
  },
  {
   "cell_type": "code",
   "execution_count": 2,
   "metadata": {},
   "outputs": [],
   "source": [
    "from lidarproc.main.constants import *\n",
    "import lidarproc.main.clustering as clus\n",
    "import lidarproc.main.data_cleansing as dacl\n",
    "import lidarproc.main.output_rendering as outr\n",
    "from lidarproc.retrieve_realistic_measures import get_table_measures\n",
    "import lidarproc.check_hough as chh\n",
    "import lidarproc.check_clustering as chc\n",
    "from lidarproc.main.geometry import Point, Vector\n",
    "from lidarproc.main.table import Square, Table"
   ]
  },
  {
   "cell_type": "markdown",
   "metadata": {},
   "source": [
    "## Instanciation"
   ]
  },
  {
   "cell_type": "markdown",
   "metadata": {},
   "source": [
    "On suppose connaître la position et l'orientation absolues du robot. On définit $\\begin{pmatrix}x_{soi} \\\\\\ y_{soi}\\end{pmatrix} = \\begin{pmatrix} 750 \\\\\\ 500 \\end{pmatrix}$ et $\\theta = \\frac{\\pi}{3}$"
   ]
  },
  {
   "cell_type": "code",
   "execution_count": 3,
   "metadata": {},
   "outputs": [],
   "source": [
    "robot_position = Point(750, 500)\n",
    "orientation = np.pi/3"
   ]
  },
  {
   "cell_type": "markdown",
   "metadata": {},
   "source": [
    "On initialise la position du robot ennemi $\\begin{pmatrix}x_{ennemi} \\\\ y_{ennemi}\\end{pmatrix} = \\begin{pmatrix} -200 \\\\\\ 1230 \\end{pmatrix}$, mais elle nous est cachée."
   ]
  },
  {
   "cell_type": "code",
   "execution_count": 4,
   "metadata": {},
   "outputs": [],
   "source": [
    "opponent_position = Point(-200, 1230)"
   ]
  },
  {
   "cell_type": "markdown",
   "metadata": {},
   "source": [
    "Notre robot perçoit le robot ennemi selon la distance les séparant et l'orientation relative de notre robot. Nous mesurons donc la position relative du robot adverse par rapport à notre robot."
   ]
  },
  {
   "cell_type": "code",
   "execution_count": 5,
   "metadata": {},
   "outputs": [],
   "source": [
    "vect_between_it_and_me = Vector()\n",
    "vect_between_it_and_me.set_by_points(robot_position, opponent_position)\n",
    "perceived_angle = vect_between_it_and_me.compute_basis_angle() - orientation\n",
    "perceived_distance = vect_between_it_and_me.compute_distance()"
   ]
  },
  {
   "cell_type": "code",
   "execution_count": 6,
   "metadata": {},
   "outputs": [
    {
     "data": {
      "text/plain": [
       "(1.4392083819601436, 1198.0818002123228)"
      ]
     },
     "execution_count": 6,
     "metadata": {},
     "output_type": "execute_result"
    }
   ],
   "source": [
    "perceived_angle, perceived_distance"
   ]
  },
  {
   "cell_type": "markdown",
   "metadata": {},
   "source": [
    "En coordonnées cartésiennes dans le repère du robot, ça donne :"
   ]
  },
  {
   "cell_type": "code",
   "execution_count": 7,
   "metadata": {},
   "outputs": [
    {
     "data": {
      "text/plain": [
       "(157.19854476264027, 1187.724133595217)"
      ]
     },
     "execution_count": 7,
     "metadata": {},
     "output_type": "execute_result"
    }
   ],
   "source": [
    "np.cos(perceived_angle)*perceived_distance, np.sin(perceived_angle)*perceived_distance"
   ]
  },
  {
   "cell_type": "markdown",
   "metadata": {},
   "source": [
    "Affichage de la situation du point de vue de la table."
   ]
  },
  {
   "cell_type": "code",
   "execution_count": 8,
   "metadata": {},
   "outputs": [
    {
     "name": "stdout",
     "output_type": "stream",
     "text": [
      "vectors\n",
      "750 500\n",
      "points\n",
      "-200 1230\n",
      "750 500\n"
     ]
    },
    {
     "data": {
      "image/png": "[encoded data removed]",
      "text/plain": [
       "<Figure size 432x288 with 1 Axes>"
      ]
     },
     "metadata": {
      "needs_background": "light"
     },
     "output_type": "display_data"
    }
   ],
   "source": [
    "%matplotlib inline\n",
    "\n",
    "# table instantiation\n",
    "table = Table()\n",
    "\n",
    "# table edges\n",
    "table.add_edge_point(Point(-1500, 0))\n",
    "table.add_edge_point(Point(1500, 0))\n",
    "table.add_edge_point(Point(1500, 2000))\n",
    "table.add_edge_point(Point(-1500, 2000))\n",
    "\n",
    "# adds opponent robot\n",
    "table.add_point(opponent_position)\n",
    "\n",
    "# adds our robot\n",
    "v_robot_position = Vector()\n",
    "v_robot_position.set_by_point(robot_position)\n",
    "table.add_vector(v_robot_position)\n",
    "table.add_point(robot_position)\n",
    "\n",
    "# displays all\n",
    "table.init_plot()\n",
    "table.plot_edges()\n",
    "table.plot_vectors()\n",
    "table.plot_points()\n",
    "table.plot_unitary_vector(robot_position, orientation)\n",
    "table.plot()"
   ]
  },
  {
   "cell_type": "markdown",
   "metadata": {},
   "source": [
    "## Mise en situation"
   ]
  },
  {
   "cell_type": "markdown",
   "metadata": {},
   "source": [
    "Passage du point de vue de la table (absolu) au point de vue du robot (relatif).\n",
    "\n",
    "**Relation fondamentale du changement de repère** :\n",
    "\n",
    "$$\\begin{pmatrix}x_{absolu} \\\\\\ y_{absolu}\\end{pmatrix} = R(\\theta) \\times (\\begin{pmatrix}x_{relatif} \\\\\\ y_{relatif}\\end{pmatrix} - \\begin{pmatrix}x_{soi} \\\\\\ y_{soi}\\end{pmatrix})$$\n",
    "\n",
    "avec\n",
    "- $\\begin{pmatrix}x_{absolu} \\\\\\ y_{absolu}\\end{pmatrix}$ une position dans le repère de la table,\n",
    "- $R(\\theta)$ la matrice de rotation d'angle $\\theta$, $R(\\theta) = \\begin{pmatrix}cos(\\theta) & -sin(\\theta) \\\\\\ sin(\\theta) & cos(\\theta) \\end{pmatrix}$\n",
    "- $\\begin{pmatrix} x_{relatif} \\\\\\ y_{relatif} \\end{pmatrix}$ position dans le repère du robot (mesure prise avec le LiDAR),\n",
    "- $\\begin{pmatrix}x_{soi} \\\\\\ y_{soi}\\end{pmatrix}$ position du robot dans le repère de la table."
   ]
  },
  {
   "cell_type": "code",
   "execution_count": 9,
   "metadata": {},
   "outputs": [
    {
     "data": {
      "text/plain": [
       "<lidarproc.main.geometry.Point at 0x28df4482e08>"
      ]
     },
     "execution_count": 9,
     "metadata": {},
     "output_type": "execute_result"
    }
   ],
   "source": [
    "opponent_position_from_robot = opponent_position.copy()\n",
    "opponent_position_from_robot = opponent_position_from_robot - robot_position\n",
    "opponent_position_from_robot.rotate(orientation)\n",
    "\n",
    "robot_position_from_robot = robot_position.copy()\n",
    "robot_position_from_robot = robot_position_from_robot - robot_position\n",
    "robot_position_from_robot.rotate(orientation)"
   ]
  },
  {
   "cell_type": "markdown",
   "metadata": {},
   "source": [
    "Affichage du point de vue du robot."
   ]
  },
  {
   "cell_type": "code",
   "execution_count": 10,
   "metadata": {},
   "outputs": [
    {
     "name": "stdout",
     "output_type": "stream",
     "text": [
      "vectors\n",
      "0.0 0.0\n",
      "points\n",
      "-1107.1985447626403 -457.72413359521664\n"
     ]
    },
    {
     "data": {
      "image/png": "[encoded data removed]",
      "text/plain": [
       "<Figure size 432x288 with 1 Axes>"
      ]
     },
     "metadata": {
      "needs_background": "light"
     },
     "output_type": "display_data"
    }
   ],
   "source": [
    "%matplotlib inline\n",
    "\n",
    "# translation and rotation\n",
    "v_robot_position_from_robot = Vector()\n",
    "v_robot_position_from_robot.set_by_point(robot_position_from_robot)\n",
    "\n",
    "\n",
    "# table instantiation\n",
    "table = Table()\n",
    "table.add_edge_point(Point(-1500, 0))\n",
    "table.add_edge_point(Point(1500, 0))\n",
    "table.add_edge_point(Point(1500, 2000))\n",
    "table.add_edge_point(Point(-1500, 2000))\n",
    "\n",
    "table.translate(-1*v_robot_position)\n",
    "table.rotate(orientation)\n",
    "\n",
    "table.add_point(opponent_position_from_robot)\n",
    "\n",
    "table.add_vector(v_robot_position_from_robot)\n",
    "\n",
    "table.init_plot()\n",
    "table.plot_edges()\n",
    "\n",
    "table.plot_unitary_vector(Point(0, 0), 0)\n",
    "table.plot_vectors()\n",
    "table.plot_points()\n",
    "\n",
    "# table.plot_point(robot_position)\n",
    "# table.plot_unitary_vector(robot_position, orientation)\n",
    "# table.plot_point(opponent_position)\n",
    "\n",
    "\n",
    "# table.plot_measures(measure, vectors, robot_vector)\n",
    "table.plot()"
   ]
  },
  {
   "cell_type": "markdown",
   "metadata": {},
   "source": [
    "## Localisation"
   ]
  },
  {
   "cell_type": "markdown",
   "metadata": {},
   "source": [
    "On se remet dans le repère de la table.\n",
    "\n",
    "On refait un changement de repère :\n",
    "\n",
    "$$\\begin{pmatrix}x_{absolu} \\\\\\ y_{absolu}\\end{pmatrix} = R(-\\theta) \\times \\begin{pmatrix}x_{relatif} \\\\\\ y_{relatif}\\end{pmatrix} + \\begin{pmatrix}x_{soi} \\\\\\ y_{soi}\\end{pmatrix}$$"
   ]
  },
  {
   "cell_type": "code",
   "execution_count": 11,
   "metadata": {},
   "outputs": [],
   "source": [
    "opponent_position_estimated = opponent_position_from_robot.copy()\n",
    "opponent_position_estimated.rotate(-orientation)\n",
    "opponent_position_estimated = opponent_position_estimated + robot_position\n",
    "\n",
    "\n",
    "robot_position_estimated = robot_position_from_robot.copy()\n",
    "robot_position_estimated.rotate(-orientation)\n",
    "robot_position_estimated = robot_position_estimated + robot_position\n"
   ]
  },
  {
   "cell_type": "markdown",
   "metadata": {},
   "source": [
    "Reconstitution de la table initiale."
   ]
  },
  {
   "cell_type": "code",
   "execution_count": 12,
   "metadata": {},
   "outputs": [
    {
     "name": "stdout",
     "output_type": "stream",
     "text": [
      "750.0 - 500.0\n",
      "vectors\n",
      "750.0 500.0\n",
      "points\n",
      "-200.0 1230.0\n",
      "750.0 500.0\n"
     ]
    },
    {
     "data": {
      "image/png": "[encoded data removed]",
      "text/plain": [
       "<Figure size 432x288 with 1 Axes>"
      ]
     },
     "metadata": {
      "needs_background": "light"
     },
     "output_type": "display_data"
    }
   ],
   "source": [
    "%matplotlib inline\n",
    "\n",
    "# table instantiation\n",
    "table = Table()\n",
    "table.add_edge_point(Point(-1500, 0))\n",
    "table.add_edge_point(Point(1500, 0))\n",
    "table.add_edge_point(Point(1500, 2000))\n",
    "table.add_edge_point(Point(-1500, 2000))\n",
    "\n",
    "table.add_point(opponent_position_estimated)\n",
    "table.add_point(robot_position_estimated)\n",
    "\n",
    "\n",
    "v_robot_position = Vector()\n",
    "v_robot_position.set_by_point(robot_position_estimated)\n",
    "print(v_robot_position)\n",
    "table.add_vector(robot_position_estimated)\n",
    "\n",
    "table.init_plot()\n",
    "table.plot_edges()\n",
    "table.plot_vectors()\n",
    "table.plot_points()\n",
    "\n",
    "table.plot_unitary_vector(robot_position_estimated, orientation)\n",
    "\n",
    "table.plot()"
   ]
  },
  {
   "cell_type": "markdown",
   "metadata": {},
   "source": [
    "----------------------------------\n",
    "Par Clément Besnier, [www.clementbesnier.fr](https://www.clementbesnier.fr)"
   ]
  }
 ],
 "metadata": {
  "kernelspec": {
   "display_name": "Python 3",
   "language": "python",
   "name": "python3"
  },
  "language_info": {
   "codemirror_mode": {
    "name": "ipython",
    "version": 3
   },
   "file_extension": ".py",
   "mimetype": "text/x-python",
   "name": "python",
   "nbconvert_exporter": "python",
   "pygments_lexer": "ipython3",
   "version": "3.7.4"
  },
  "pycharm": {
   "stem_cell": {
    "cell_type": "raw",
    "metadata": {
     "collapsed": false
    },
    "source": []
   }
  }
 },
 "nbformat": 4,
 "nbformat_minor": 1
}
