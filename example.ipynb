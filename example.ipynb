{
 "cells": [
  {
   "cell_type": "markdown",
   "metadata": {
    "collapsed": true,
    "pycharm": {
     "is_executing": false,
     "name": "#%%"
    }
   },
   "source": [
    "# Exemples"
   ]
  },
  {
   "cell_type": "markdown",
   "metadata": {},
   "source": [
    "Ces notes permettent de se tester les méthodes développées pour le positionnement du robot par un LiDAR s'appuyant sur des balises fixes."
   ]
  },
  {
   "cell_type": "markdown",
   "metadata": {},
   "source": [
    "On a besoin de **numpy** pour traiter les données comme des vecteurs et de matplolib pour afficher les données."
   ]
  },
  {
   "cell_type": "code",
   "execution_count": 1,
   "metadata": {},
   "outputs": [],
   "source": [
    "import numpy as np\n",
    "import matplotlib.pyplot as pl\n",
    "# from matplotlib.pyplot import rcParams\n",
    "# rcParams['figure.figsize'] = 20, 20\n",
    "pl.figure(figsize=(15,13))\n",
    "\n",
    "# %matplotlib inline\n",
    "%matplotlib notebook"
   ]
  },
  {
   "cell_type": "code",
   "execution_count": 2,
   "metadata": {},
   "outputs": [],
   "source": [
    "from lidarproc.main.constants import *\n",
    "import lidarproc.main.clustering as clus\n",
    "import lidarproc.main.data_cleansing as dacl\n",
    "import lidarproc.main.output_rendering as outr\n",
    "from lidarproc.retrieve_realistic_measures import get_table_measures\n",
    "import lidarproc.check_hough as chh\n",
    "import lidarproc.check_clustering as chc"
   ]
  },
  {
   "cell_type": "markdown",
   "metadata": {},
   "source": [
    "On récupère une série de mesures parmi les trois enregistrées le 26 avril 2019."
   ]
  },
  {
   "cell_type": "code",
   "execution_count": 3,
   "metadata": {},
   "outputs": [],
   "source": [
    "samples = [\"0_-1820_pi_over_2\", \"1210_1400_pi\", \"-1210_1400_0\"]\n",
    "one_turn_measure = get_table_measures(samples[1])"
   ]
  },
  {
   "cell_type": "markdown",
   "metadata": {},
   "source": [
    "On a pris 9 tours de mesures par position."
   ]
  },
  {
   "cell_type": "code",
   "execution_count": 4,
   "metadata": {},
   "outputs": [
    {
     "data": {
      "text/plain": [
       "9"
      ]
     },
     "execution_count": 4,
     "metadata": {},
     "output_type": "execute_result"
    }
   ],
   "source": [
    "len(one_turn_measure)"
   ]
  },
  {
   "cell_type": "markdown",
   "metadata": {},
   "source": [
    "Un tour de mesures est composé de 1197 mesures."
   ]
  },
  {
   "cell_type": "code",
   "execution_count": 5,
   "metadata": {},
   "outputs": [
    {
     "data": {
      "text/plain": [
       "1197"
      ]
     },
     "execution_count": 5,
     "metadata": {},
     "output_type": "execute_result"
    }
   ],
   "source": [
    "len(one_turn_measure[0])"
   ]
  },
  {
   "cell_type": "markdown",
   "metadata": {},
   "source": [
    "Et la résolution angulaire est de 0,3°, ce qui est vraiment pas mal !"
   ]
  },
  {
   "cell_type": "code",
   "execution_count": 6,
   "metadata": {},
   "outputs": [
    {
     "data": {
      "text/plain": [
       "0.30219999999999997"
      ]
     },
     "execution_count": 6,
     "metadata": {},
     "output_type": "execute_result"
    }
   ],
   "source": [
    "one_turn_measure[0][1][0] - one_turn_measure[0][0][0]"
   ]
  },
  {
   "cell_type": "markdown",
   "metadata": {},
   "source": [
    "On fait un tri des mesures. Le LiDAR annonce lui-même pour chaque mesure si celle-ci est de bonne qualité ou non. Ca va de 0 à 180. On ne conserve finalement que points."
   ]
  },
  {
   "cell_type": "code",
   "execution_count": 7,
   "metadata": {},
   "outputs": [
    {
     "name": "stdout",
     "output_type": "stream",
     "text": [
      "9\n",
      "935\n"
     ]
    },
    {
     "data": {
      "image/png": "[encoded data removed]",
      "text/plain": [
       "<Figure size 432x288 with 1 Axes>"
      ]
     },
     "metadata": {
      "needs_background": "light"
     },
     "output_type": "display_data"
    }
   ],
   "source": [
    "print(len(one_turn_measure))\n",
    "%matplotlib inline\n",
    "one_turn_measure = get_table_measures(samples[1])\n",
    "one_turn_measure = dacl.keep_good_measures(one_turn_measure[0], 100)\n",
    "print(len(one_turn_measure))\n",
    "# chh.display_measures(one_turn_measure)\n",
    "\n",
    "\n",
    "# pl.ion()\n",
    "fig = pl.figure()\n",
    "ax = fig.add_subplot(111)\n",
    "ax.clear()\n",
    "ax.set_xlim(-distance_max_x_cartesien, distance_max_x_cartesien)\n",
    "ax.set_ylim(-distance_max_y_cartesien, distance_max_y_cartesien)\n",
    "ax.axhline(0, 0)\n",
    "ax.axvline(0, 0)\n",
    "# pl.grid()\n",
    "\n",
    "polar_points = [[np.radians(theta), rho] for theta, rho in one_turn_measure]\n",
    "\n",
    "points = outr.one_turn_to_cartesian_points(polar_points)\n",
    "\n",
    "xx = []\n",
    "yy = []\n",
    "for x, y in points:\n",
    "    xx.append(x)\n",
    "    yy.append(y)\n",
    "\n",
    "pl.plot(xx, yy, 'r,')\n",
    "fig.canvas.draw()\n",
    "pl.show()"
   ]
  },
  {
   "cell_type": "markdown",
   "metadata": {},
   "source": [
    "On peut encore nettoyer : si un point est trop loin du robot alors on peut considérer qu'il est n'est pas de l'environnement de jeu du robot, donc on rejette."
   ]
  },
  {
   "cell_type": "code",
   "execution_count": 8,
   "metadata": {},
   "outputs": [
    {
     "name": "stdout",
     "output_type": "stream",
     "text": [
      "503\n"
     ]
    },
    {
     "data": {
      "image/png": "[encoded data removed]",
      "text/plain": [
       "<Figure size 432x288 with 1 Axes>"
      ]
     },
     "metadata": {
      "needs_background": "light"
     },
     "output_type": "display_data"
    }
   ],
   "source": [
    "%matplotlib inline\n",
    "one_turn_measure = dacl.keep_not_too_far_or_not_too_close(one_turn_measure)\n",
    "print(len(one_turn_measure))\n",
    "# chh.display_measures(one_turn_measure)\n",
    "\n",
    "# pl.ion()\n",
    "fig = pl.figure()\n",
    "ax = fig.add_subplot(111)\n",
    "ax.clear()\n",
    "ax.set_xlim(-distance_max_x_cartesien, distance_max_x_cartesien)\n",
    "ax.set_ylim(-distance_max_y_cartesien, distance_max_y_cartesien)\n",
    "ax.axhline(0, 0)\n",
    "ax.axvline(0, 0)\n",
    "# pl.grid()\n",
    "\n",
    "polar_points = [[np.radians(theta), rho] for theta, rho in one_turn_measure]\n",
    "\n",
    "points = outr.one_turn_to_cartesian_points(polar_points)\n",
    "\n",
    "xx = []\n",
    "yy = []\n",
    "for x, y in points:\n",
    "    xx.append(x)\n",
    "    yy.append(y)\n",
    "\n",
    "pl.plot(xx, yy, 'r,')\n",
    "fig.canvas.draw()\n",
    "pl.show()"
   ]
  },
  {
   "cell_type": "markdown",
   "metadata": {},
   "source": [
    "On convertit les données en coordonnées cartésiennes et on les regroupe dans des groupes nommés *clusters*."
   ]
  },
  {
   "cell_type": "code",
   "execution_count": 9,
   "metadata": {},
   "outputs": [
    {
     "name": "stdout",
     "output_type": "stream",
     "text": [
      "[0.7306, 3428.0]\n",
      "[3427.72131153   43.71053071]\n"
     ]
    }
   ],
   "source": [
    "print(one_turn_measure[0])\n",
    "cartesian_one_turn_measure = outr.one_turn_to_cartesian_points([(np.radians(theta), rho) for theta, rho in one_turn_measure])\n",
    "print(cartesian_one_turn_measure[0])\n",
    "cartesian_one_turn_measure = [np.array(measure) for measure in cartesian_one_turn_measure]\n",
    "clusters, means, closest_points = clus.clusterize(cartesian_one_turn_measure)"
   ]
  },
  {
   "cell_type": "markdown",
   "metadata": {},
   "source": [
    "On peut voir les *clusters*. Chaque cluster a sa propre couleur."
   ]
  },
  {
   "cell_type": "code",
   "execution_count": 10,
   "metadata": {},
   "outputs": [
    {
     "data": {
      "image/png": "[encoded data removed]",
      "text/plain": [
       "<Figure size 432x288 with 1 Axes>"
      ]
     },
     "metadata": {
      "needs_background": "light"
     },
     "output_type": "display_data"
    }
   ],
   "source": [
    "%matplotlib inline\n",
    "chc.plot_clustering(clusters)"
   ]
  },
  {
   "cell_type": "markdown",
   "metadata": {},
   "source": [
    "On cherche les *clusters* qui ont une forme sensiblement proche d'une balise fixe recherchée."
   ]
  },
  {
   "cell_type": "code",
   "execution_count": 11,
   "metadata": {},
   "outputs": [],
   "source": [
    "real_clusters = []\n",
    "circle_centers = []\n",
    "for cluster in clusters:\n",
    "    c = clus.Cluster()\n",
    "    c.add_points(cluster)\n",
    "    real_clusters.append(c)\n",
    "for cluster in real_clusters:\n",
    "    res = cluster.is_a_fix_beacon()\n",
    "#     print(res.fun)\n",
    "    if res is not None:\n",
    "        circle_centers.append(res.center)\n",
    "        "
   ]
  },
  {
   "cell_type": "markdown",
   "metadata": {},
   "source": [
    "On entoure les zones présumées être des balises fixes d'un cerlce rouge."
   ]
  },
  {
   "cell_type": "code",
   "execution_count": 12,
   "metadata": {},
   "outputs": [
    {
     "data": {
      "image/png": "[encoded data removed]",
      "text/plain": [
       "<Figure size 432x288 with 1 Axes>"
      ]
     },
     "metadata": {
      "needs_background": "light"
     },
     "output_type": "display_data"
    }
   ],
   "source": [
    "%matplotlib inline\n",
    "thetas = np.deg2rad(np.arange(0, 360, 1))\n",
    "real_radius = 100\n",
    "\n",
    "\n",
    "chc.plot_clustering(clusters, False)\n",
    "for circle_center in circle_centers:\n",
    "    xx = circle_center.x + real_radius*np.cos(thetas)\n",
    "    yy = circle_center.y + real_radius*np.sin(thetas)\n",
    "    pl.plot(xx, yy, \"r-\")\n",
    "pl.show()"
   ]
  },
  {
   "cell_type": "markdown",
   "metadata": {},
   "source": [
    "Et là, on ne part plus du tout de mesures réelles, mais de simulation que l'on fait en bruitant les points qui se trouvent sur le cercle construit."
   ]
  },
  {
   "cell_type": "code",
   "execution_count": 13,
   "metadata": {},
   "outputs": [
    {
     "data": {
      "image/png": "[encoded data removed]",
      "text/plain": [
       "<Figure size 432x288 with 1 Axes>"
      ]
     },
     "metadata": {
      "needs_background": "light"
     },
     "output_type": "display_data"
    }
   ],
   "source": [
    "%matplotlib inline\n",
    "thetas = np.deg2rad(np.arange(0, 150, 12))\n",
    "real_x, real_y = (-420, 780)\n",
    "real_radius = 100\n",
    "sigma = 3\n",
    "xx_real = real_radius * np.cos(thetas) + real_x\n",
    "xx_noisy = real_radius * np.cos(thetas) + real_x + np.random.randn(len(thetas))*sigma\n",
    "yy_real = real_radius * np.sin(thetas) + real_y\n",
    "yy_noisy = real_radius * np.sin(thetas) + real_y + np.random.randn(len(thetas))*sigma\n",
    "\n",
    "\n",
    "pl.plot(xx_real, yy_real, 'b+')\n",
    "pl.plot(xx_noisy, yy_noisy, 'r+')\n",
    "pl.show()"
   ]
  },
  {
   "cell_type": "markdown",
   "metadata": {},
   "source": [
    "On regarde si ça donne bien un cercle au final et on affiche la reconstitution."
   ]
  },
  {
   "cell_type": "code",
   "execution_count": 14,
   "metadata": {},
   "outputs": [],
   "source": [
    "%matplotlib inline\n",
    "sigma = 2\n",
    "points = [np.array([xx_noisy[i], yy_noisy[i]])+np.random.randn(2)*sigma for i in range(len(xx_noisy))]\n",
    "cluster = clus.Cluster()\n",
    "cluster.add_points(points)\n",
    "xy = cluster.is_a_circle(100)"
   ]
  },
  {
   "cell_type": "code",
   "execution_count": 15,
   "metadata": {},
   "outputs": [
    {
     "data": {
      "image/png": "[encoded data removed]",
      "text/plain": [
       "<Figure size 432x288 with 1 Axes>"
      ]
     },
     "metadata": {
      "needs_background": "light"
     },
     "output_type": "display_data"
    }
   ],
   "source": [
    "\n",
    "%matplotlib inline\n",
    "real_radius = 100\n",
    "\n",
    "xx_reconstructed = real_radius * np.cos(thetas) + xy.x[0]\n",
    "yy_reconstructed = real_radius * np.sin(thetas) + xy.x[1]\n",
    "\n",
    "pl.plot(xx_reconstructed, yy_reconstructed, 'g+')\n",
    "pl.plot(xx_real, yy_real, 'b+')\n",
    "pl.show()"
   ]
  },
  {
   "cell_type": "markdown",
   "metadata": {},
   "source": [
    "Voilà voilà. Il faut que je bosse vraiment en fait.\n",
    "\n",
    "---------------------------\n",
    "\n",
    "Par Clément Besnier, [www.clementbesnier.fr](https://www.clementbesnier.fr)"
   ]
  }
 ],
 "metadata": {
  "kernelspec": {
   "display_name": "Python 3",
   "language": "python",
   "name": "python3"
  },
  "language_info": {
   "codemirror_mode": {
    "name": "ipython",
    "version": 3
   },
   "file_extension": ".py",
   "mimetype": "text/x-python",
   "name": "python",
   "nbconvert_exporter": "python",
   "pygments_lexer": "ipython3",
   "version": "3.7.4"
  },
  "pycharm": {
   "stem_cell": {
    "cell_type": "raw",
    "metadata": {
     "collapsed": false
    },
    "source": []
   }
  }
 },
 "nbformat": 4,
 "nbformat_minor": 1
}
